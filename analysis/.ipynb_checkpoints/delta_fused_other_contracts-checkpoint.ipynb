{
 "cells": [
  {
   "cell_type": "code",
   "execution_count": 1,
   "id": "a1317ce0",
   "metadata": {},
   "outputs": [],
   "source": [
    "import numpy as np\n",
    "import matplotlib.pyplot as plt\n",
    "import pandas as pd\n",
    "%matplotlib inline\n",
    "import os\n",
    "from pathlib import Path\n",
    "import re"
   ]
  },
  {
   "cell_type": "code",
   "execution_count": 47,
   "id": "d4da1ae0",
   "metadata": {},
   "outputs": [],
   "source": [
    "\n",
    "def dsc_fused_references(contract):\n",
    "    path_dsc = Path(f'../optimizations/dsc/tracefiles_long/{contract}')\n",
    "    path_fused = Path(f'../optimizations/dsc-fused-operator/tracefiles_long/{contract}')\n",
    "    path_references = Path(f'../optimizations/references/tracefiles_long/{contract}')\n",
    "    # all transactions in dsc's trace\n",
    "    functions = [f for f in path_dsc.iterdir() if f.is_dir()]\n",
    "    for function in functions:\n",
    "        function_name = os.path.basename(function)\n",
    "        opcode_file_dsc = function.joinpath(\"opcode.txt\")\n",
    "        opcode_file_fused = path_fused.joinpath(f\"{function_name}/opcode.txt\")\n",
    "        opcode_file_references = path_references.joinpath(f\"{function_name}/opcode.txt\")\n",
    "        # dsc-fused\n",
    "        if(opcode_file_dsc.is_file() and opcode_file_fused.is_file()):\n",
    "            with open(opcode_file_dsc) as file_dsc:\n",
    "                dsc_gas = file_dsc.readlines()[-21]\n",
    "            with open(opcode_file_fused) as file_fused:\n",
    "                fused_gas = file_fused.readlines()[-21]\n",
    "            if (fused_gas.startswith('gas: ') and dsc_gas.startswith('gas: ')):\n",
    "                dsc_gas_num = float(re.split(': |\\n', dsc_gas)[1])\n",
    "                fused_gas_num = float(re.split(': |\\n', fused_gas)[1])\n",
    "                dsc_delta_fused = dsc_gas_num - fused_gas_num\n",
    "#                 print('dsc_gas: ', dsc_gas_num)\n",
    "#                 print('fused_gas: ', fused_gas_num)\n",
    "                print(f'{contract}.{function_name} dsc-fused: ', round(dsc_delta_fused, 2))\n",
    "        # fused-references\n",
    "        if(opcode_file_references.is_file() and opcode_file_fused.is_file()):\n",
    "            with open(opcode_file_references) as file_references:\n",
    "                references_gas = file_references.readlines()[-21]\n",
    "            with open(opcode_file_fused) as file_fused:\n",
    "                fused_gas = file_fused.readlines()[-21]\n",
    "            if (fused_gas.startswith('gas: ') and references_gas.startswith('gas: ')):\n",
    "                references_gas_num = float(re.split(': |\\n', references_gas)[1])\n",
    "                fused_gas_num = float(re.split(': |\\n', fused_gas)[1])\n",
    "                references_delta_fused = fused_gas_num - references_gas_num\n",
    "#                 print('fused_gas: ', fused_gas_num)\n",
    "#                 print('references_gas: ', references_gas_num)\n",
    "                print(f'{contract}.{function_name} fused-references: ', round(references_delta_fused, 2))\n",
    "        print()\n",
    "            \n",
    "        "
   ]
  },
  {
   "cell_type": "code",
   "execution_count": 62,
   "id": "897c9b99",
   "metadata": {},
   "outputs": [
    {
     "name": "stdout",
     "output_type": "stream",
     "text": [
      "wbtc.pause dsc-fused:  0.0\n",
      "wbtc.pause fused-references:  2592.0\n",
      "\n",
      "wbtc.unpause dsc-fused:  0.0\n",
      "wbtc.unpause fused-references:  2683.0\n",
      "\n",
      "wbtc.burn dsc-fused:  842.0\n",
      "wbtc.burn fused-references:  -842.0\n",
      "\n",
      "wbtc.mint dsc-fused:  573.2\n",
      "wbtc.mint fused-references:  -2421.8\n",
      "\n",
      "wbtc.transfer dsc-fused:  807.0\n",
      "wbtc.transfer fused-references:  1750.0\n",
      "\n",
      "wbtc.reclaimToken dsc-fused:  880.0\n",
      "wbtc.reclaimToken fused-references:  -880.0\n",
      "\n",
      "wbtc.transferFrom dsc-fused:  1417.0\n",
      "wbtc.transferFrom fused-references:  6078.0\n",
      "\n",
      "wbtc.approve dsc-fused:  436.0\n",
      "wbtc.approve fused-references:  546.0\n",
      "\n",
      "wbtc.transferOwner dsc-fused:  0.0\n",
      "wbtc.transferOwner fused-references:  0.0\n",
      "\n",
      "wbtc.claimOwnership dsc-fused:  56.0\n",
      "wbtc.claimOwnership fused-references:  6187.0\n",
      "\n"
     ]
    }
   ],
   "source": [
    "dsc_fused_references('wbtc')"
   ]
  },
  {
   "cell_type": "code",
   "execution_count": null,
   "id": "0df95ed0",
   "metadata": {},
   "outputs": [],
   "source": []
  }
 ],
 "metadata": {
  "kernelspec": {
   "display_name": "Python 3 (ipykernel)",
   "language": "python",
   "name": "python3"
  },
  "language_info": {
   "codemirror_mode": {
    "name": "ipython",
    "version": 3
   },
   "file_extension": ".py",
   "mimetype": "text/x-python",
   "name": "python",
   "nbconvert_exporter": "python",
   "pygments_lexer": "ipython3",
   "version": "3.8.2"
  }
 },
 "nbformat": 4,
 "nbformat_minor": 5
}
